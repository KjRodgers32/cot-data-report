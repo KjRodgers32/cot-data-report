{
 "cells": [
  {
   "cell_type": "code",
   "execution_count": 1,
   "metadata": {},
   "outputs": [
    {
     "name": "stdout",
     "output_type": "stream",
     "text": [
      "Selected: COT Legacy report. Futures only.\n",
      "Selected: legacy_fut\n",
      "Downloaded single year data from: 2017\n",
      "Selected: legacy_fut\n",
      "Downloaded single year data from: 2018\n",
      "Selected: legacy_fut\n",
      "Downloaded single year data from: 2019\n",
      "Selected: legacy_fut\n",
      "Downloaded single year data from: 2020\n",
      "Selected: legacy_fut\n",
      "Downloaded single year data from: 2021\n",
      "Selected: legacy_fut\n",
      "Downloaded single year data from: 2022\n",
      "Selected: legacy_fut\n",
      "Downloaded single year data from: 2023\n",
      "Selected: legacy_fut\n",
      "Downloaded single year data from: 2024\n"
     ]
    }
   ],
   "source": [
    "import datetime\n",
    "\n",
    "import cot_reports as cot\n",
    "import pandas as pd\n",
    "\n",
    "# Returns pd.DataFrame of futures data from 1986-latest_date\n",
    "df = cot.cot_all(cot_report_type='legacy_fut', store_txt=False)"
   ]
  },
  {
   "cell_type": "code",
   "execution_count": 5,
   "metadata": {},
   "outputs": [],
   "source": [
    "list_of_pairs = [\n",
    "    r'GOLD - COMMODITY EXCHANGE INC.',\n",
    "    r'CANADIAN DOLLAR - CHICAGO MERCANTILE EXCHANGE',\n",
    "    r'SWISS FRANC - CHICAGO MERCANTILE EXCHANGE',\n",
    "    r'BRITISH POUND - CHICAGO MERCANTILE EXCHANGE',\n",
    "    r'JAPANESE YEN - CHICAGO MERCANTILE EXCHANGE',\n",
    "    r'USD INDEX - ICE FUTURES U.S.',\n",
    "    r'EURO FX - CHICAGO MERCANTILE EXCHANGE',\n",
    "    r'NZ DOLLAR - CHICAGO MERCANTILE EXCHANGE',\n",
    "    r'AUSTRALIAN DOLLAR - CHICAGO MERCANTILE EXCHANGE'\n",
    "]\n",
    "\n",
    "columns = [\n",
    "    'Market and Exchange Names',\n",
    "    'As of Date in Form YYYY-MM-DD',\n",
    "    'Open Interest (All)',\n",
    "    'Noncommercial Positions-Long (All)',\n",
    "    'Noncommercial Positions-Short (All)',\n",
    "    'Noncommercial Positions-Spreading (All)',\n",
    "    'Noncommercial Positions-Long (Old)',\n",
    "    'Noncommercial Positions-Short (Old)',\n",
    "    'Noncommercial Positions-Spreading (Old)',\n",
    "    'Change in Noncommercial-Long (All)',\n",
    "    'Change in Noncommercial-Short (All)',\n",
    "    'Change in Noncommercial-Spreading (All)',\n",
    "    '% of OI-Noncommercial-Long (All)',\n",
    "    '% of OI-Noncommercial-Short (All)',\n",
    "    '% of OI-Noncommercial-Spreading (All)',\n",
    "    '% of OI-Noncommercial-Long (Old)',\n",
    "    '% of OI-Noncommercial-Short (Old)',\n",
    "    '% of OI-Noncommercial-Spreading (Old)'\n",
    "]"
   ]
  },
  {
   "cell_type": "code",
   "execution_count": 7,
   "metadata": {},
   "outputs": [],
   "source": [
    "fx_data = df[(df['Market and Exchange Names'].str.contains('CHICAGO MERCANTILE') \n",
    "             | df['Market and Exchange Names'].str.contains('USD INDEX - ICE FUTURES')) &\n",
    "             (df['Market and Exchange Names'].isin(list_of_pairs))]"
   ]
  },
  {
   "cell_type": "code",
   "execution_count": 9,
   "metadata": {},
   "outputs": [],
   "source": [
    "fx_data.to_csv('test.csv', index=False)"
   ]
  },
  {
   "cell_type": "code",
   "execution_count": null,
   "metadata": {},
   "outputs": [],
   "source": []
  }
 ],
 "metadata": {
  "kernelspec": {
   "display_name": "Python 3",
   "language": "python",
   "name": "python3"
  },
  "language_info": {
   "codemirror_mode": {
    "name": "ipython",
    "version": 3
   },
   "file_extension": ".py",
   "mimetype": "text/x-python",
   "name": "python",
   "nbconvert_exporter": "python",
   "pygments_lexer": "ipython3",
   "version": "3.11.0"
  }
 },
 "nbformat": 4,
 "nbformat_minor": 2
}
